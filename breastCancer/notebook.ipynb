{
 "cells": [
  {
   "cell_type": "markdown",
   "metadata": {},
   "source": [
    "## Breast Cancer Data Challenge"
   ]
  },
  {
   "cell_type": "markdown",
   "metadata": {},
   "source": [
    "Task: develop a model that predicts whether a biopsied breast cell is benign (not harmful) or malignant (cancerous), given a set of attributes about the cell."
   ]
  },
  {
   "cell_type": "code",
   "execution_count": 324,
   "metadata": {},
   "outputs": [],
   "source": [
    "import warnings\n",
    "import numpy as np\n",
    "import pandas as pd\n",
    "import xgboost as xgb\n",
    "import seaborn as sns\n",
    "import matplotlib.pyplot as plt\n",
    "\n",
    "from sklearn.base import BaseEstimator, TransformerMixin\n",
    "from sklearn.compose import ColumnTransformer\n",
    "from sklearn.ensemble import RandomForestClassifier\n",
    "from sklearn.feature_selection import RFE, SelectKBest, SelectFromModel\n",
    "from sklearn.impute import SimpleImputer\n",
    "from sklearn.linear_model import LogisticRegression\n",
    "from sklearn.metrics import accuracy_score, confusion_matrix, recall_score, classification_report\n",
    "from sklearn.model_selection import train_test_split, cross_val_score, GridSearchCV\n",
    "from sklearn.preprocessing import LabelEncoder\n",
    "from sklearn.pipeline import Pipeline\n",
    "from sklearn.svm import SVC\n",
    "from sklearn.utils import check_X_y, check_array\n",
    "from sklearn.utils.validation import check_is_fitted\n",
    "\n",
    "warnings.filterwarnings('ignore')"
   ]
  },
  {
   "cell_type": "code",
   "execution_count": 117,
   "metadata": {},
   "outputs": [],
   "source": [
    "DATA_PATH = 'https://archive.ics.uci.edu/ml/machine-learning-databases/breast-cancer-wisconsin/breast-cancer-wisconsin.data'\n",
    "data = pd.read_csv(DATA_PATH,\n",
    "                   names=[\n",
    "                       'id', 'clump_thickness', 'size_uniformity',\n",
    "                       'shape_uniformity', 'adhesion', 'cell_size',\n",
    "                       'bare_nuclei', 'bland_chromatin', 'normal_nucleoli',\n",
    "                       'mitoses', 'target'\n",
    "                   ])\n",
    "features = np.array([\n",
    "    'clump_thickness', 'size_uniformity', 'shape_uniformity', 'adhesion',\n",
    "    'cell_size', 'bare_nuclei', 'bland_chromatin', 'normal_nucleoli', 'mitoses'\n",
    "])"
   ]
  },
  {
   "cell_type": "code",
   "execution_count": 118,
   "metadata": {},
   "outputs": [
    {
     "name": "stdout",
     "output_type": "stream",
     "text": [
      "<class 'pandas.core.frame.DataFrame'>\n",
      "RangeIndex: 699 entries, 0 to 698\n",
      "Data columns (total 11 columns):\n",
      " #   Column            Non-Null Count  Dtype \n",
      "---  ------            --------------  ----- \n",
      " 0   id                699 non-null    int64 \n",
      " 1   clump_thickness   699 non-null    int64 \n",
      " 2   size_uniformity   699 non-null    int64 \n",
      " 3   shape_uniformity  699 non-null    int64 \n",
      " 4   adhesion          699 non-null    int64 \n",
      " 5   cell_size         699 non-null    int64 \n",
      " 6   bare_nuclei       699 non-null    object\n",
      " 7   bland_chromatin   699 non-null    int64 \n",
      " 8   normal_nucleoli   699 non-null    int64 \n",
      " 9   mitoses           699 non-null    int64 \n",
      " 10  target            699 non-null    int64 \n",
      "dtypes: int64(10), object(1)\n",
      "memory usage: 60.2+ KB\n"
     ]
    }
   ],
   "source": [
    "data.info()"
   ]
  },
  {
   "cell_type": "markdown",
   "metadata": {},
   "source": [
    "\"bare_nuclei\" is object type. Taking a closer look shows some '?' values. I will treat these are missing values."
   ]
  },
  {
   "cell_type": "code",
   "execution_count": 119,
   "metadata": {},
   "outputs": [
    {
     "data": {
      "text/plain": [
       "1     402\n",
       "10    132\n",
       "2      30\n",
       "5      30\n",
       "3      28\n",
       "8      21\n",
       "4      19\n",
       "?      16\n",
       "9       9\n",
       "7       8\n",
       "6       4\n",
       "Name: bare_nuclei, dtype: int64"
      ]
     },
     "execution_count": 119,
     "metadata": {},
     "output_type": "execute_result"
    }
   ],
   "source": [
    "data['bare_nuclei'].value_counts()"
   ]
  },
  {
   "cell_type": "code",
   "execution_count": 120,
   "metadata": {},
   "outputs": [],
   "source": [
    "proc_data = data.replace('?', np.nan).copy()\n",
    "proc_data['bare_nuclei'] = proc_data['bare_nuclei'].astype(float)"
   ]
  },
  {
   "cell_type": "markdown",
   "metadata": {},
   "source": [
    "## Data Cleaning"
   ]
  },
  {
   "cell_type": "code",
   "execution_count": 123,
   "metadata": {},
   "outputs": [
    {
     "name": "stdout",
     "output_type": "stream",
     "text": [
      "2    458\n",
      "4    241\n",
      "Name: target, dtype: int64\n"
     ]
    },
    {
     "data": {
      "image/png": "[encoded data removed]",
      "text/plain": [
       "<Figure size 432x288 with 1 Axes>"
      ]
     },
     "metadata": {
      "needs_background": "light"
     },
     "output_type": "display_data"
    }
   ],
   "source": [
    "sns.countplot(proc_data.target, palette='coolwarm');\n",
    "print(proc_data.target.value_counts())"
   ]
  },
  {
   "cell_type": "markdown",
   "metadata": {},
   "source": [
    "There is good representation from both classes."
   ]
  },
  {
   "cell_type": "markdown",
   "metadata": {},
   "source": [
    "**Duplicate Data**"
   ]
  },
  {
   "cell_type": "code",
   "execution_count": 126,
   "metadata": {},
   "outputs": [
    {
     "name": "stdout",
     "output_type": "stream",
     "text": [
      "(691, 11)\n"
     ]
    }
   ],
   "source": [
    "# Find rows that have been entirely duplicated\n",
    "# We will keep one of these rows\n",
    "proc_data = proc_data.drop_duplicates()\n",
    "print(proc_data.shape)"
   ]
  },
  {
   "cell_type": "markdown",
   "metadata": {},
   "source": [
    "8 rows were dropped as they were complete duplicates. Let's look at rows where only the id is duplicated."
   ]
  },
  {
   "cell_type": "code",
   "execution_count": 130,
   "metadata": {
    "scrolled": true
   },
   "outputs": [
    {
     "name": "stdout",
     "output_type": "stream",
     "text": [
      "(606, 11)\n"
     ]
    }
   ],
   "source": [
    "# Find ids that have been duplicated\n",
    "# We will remove all such rows as this data would be unreliable\n",
    "proc_data = proc_data.drop_duplicates(subset=['id'], keep=False)\n",
    "print(proc_data.shape)"
   ]
  },
  {
   "cell_type": "markdown",
   "metadata": {},
   "source": [
    "Unfortunately 85 rows were dropped but it is important that false data records are not included in analysis of medical data."
   ]
  },
  {
   "cell_type": "code",
   "execution_count": 135,
   "metadata": {},
   "outputs": [
    {
     "name": "stdout",
     "output_type": "stream",
     "text": [
      "2    378\n",
      "4    228\n",
      "Name: target, dtype: int64\n"
     ]
    },
    {
     "data": {
      "image/png": "[encoded data removed]",
      "text/plain": [
       "<Figure size 432x288 with 1 Axes>"
      ]
     },
     "metadata": {
      "needs_background": "light"
     },
     "output_type": "display_data"
    }
   ],
   "source": [
    "sns.countplot(proc_data.target, palette='coolwarm');\n",
    "print(proc_data.target.value_counts())"
   ]
  },
  {
   "cell_type": "markdown",
   "metadata": {},
   "source": [
    "The classes are more balanced after removing duplicates."
   ]
  },
  {
   "cell_type": "markdown",
   "metadata": {},
   "source": [
    "**Missing Data**"
   ]
  },
  {
   "cell_type": "code",
   "execution_count": 131,
   "metadata": {},
   "outputs": [
    {
     "name": "stdout",
     "output_type": "stream",
     "text": [
      "<class 'pandas.core.frame.DataFrame'>\n",
      "Int64Index: 606 entries, 0 to 696\n",
      "Data columns (total 11 columns):\n",
      " #   Column            Non-Null Count  Dtype  \n",
      "---  ------            --------------  -----  \n",
      " 0   id                606 non-null    int64  \n",
      " 1   clump_thickness   606 non-null    int64  \n",
      " 2   size_uniformity   606 non-null    int64  \n",
      " 3   shape_uniformity  606 non-null    int64  \n",
      " 4   adhesion          606 non-null    int64  \n",
      " 5   cell_size         606 non-null    int64  \n",
      " 6   bare_nuclei       591 non-null    float64\n",
      " 7   bland_chromatin   606 non-null    int64  \n",
      " 8   normal_nucleoli   606 non-null    int64  \n",
      " 9   mitoses           606 non-null    int64  \n",
      " 10  target            606 non-null    int64  \n",
      "dtypes: float64(1), int64(10)\n",
      "memory usage: 56.8 KB\n"
     ]
    }
   ],
   "source": [
    "proc_data.info()"
   ]
  },
  {
   "cell_type": "markdown",
   "metadata": {},
   "source": [
    "There are 15 missing values in \"bare_nuclei\" (2.4%). Let's look at the class distribution."
   ]
  },
  {
   "cell_type": "code",
   "execution_count": 136,
   "metadata": {},
   "outputs": [
    {
     "data": {
      "text/plain": [
       "2    13\n",
       "4     2\n",
       "Name: target, dtype: int64"
      ]
     },
     "execution_count": 136,
     "metadata": {},
     "output_type": "execute_result"
    }
   ],
   "source": [
    "proc_data.loc[pd.isna(proc_data.bare_nuclei)].target.value_counts()"
   ]
  },
  {
   "cell_type": "markdown",
   "metadata": {},
   "source": [
    "The missing values are disproportionately from the Benign class but they represent less than 3% of the rows so I am choosing to remove them."
   ]
  },
  {
   "cell_type": "code",
   "execution_count": 257,
   "metadata": {},
   "outputs": [
    {
     "name": "stdout",
     "output_type": "stream",
     "text": [
      "(591, 11)\n"
     ]
    }
   ],
   "source": [
    "proc_data = proc_data.dropna()\n",
    "print(proc_data.shape)"
   ]
  },
  {
   "cell_type": "markdown",
   "metadata": {},
   "source": [
    "## Exploration"
   ]
  },
  {
   "cell_type": "code",
   "execution_count": 258,
   "metadata": {},
   "outputs": [],
   "source": [
    "def plot_corr_map(data, center=None):\n",
    "    f, ax = plt.subplots(figsize=(10, 6))\n",
    "    corr = data.corr()\n",
    "    hm = sns.heatmap(round(corr, 2),\n",
    "                     annot=True,\n",
    "                     ax=ax,\n",
    "                     cmap=\"coolwarm\",\n",
    "                     fmt='.2f',\n",
    "                     linewidths=.05,\n",
    "                     center=center)\n",
    "    f.subplots_adjust(top=0.93)\n",
    "    t = f.suptitle('User Data Correlation Heatmap', fontsize=16)\n",
    "    return f"
   ]
  },
  {
   "cell_type": "code",
   "execution_count": 259,
   "metadata": {},
   "outputs": [
    {
     "data": {
      "image/png": "[encoded data removed]",
      "text/plain": [
       "<Figure size 720x432 with 2 Axes>"
      ]
     },
     "metadata": {
      "needs_background": "light"
     },
     "output_type": "display_data"
    }
   ],
   "source": [
    "fig1 = plot_corr_map(proc_data.drop(['id'], axis=1))"
   ]
  },
  {
   "cell_type": "markdown",
   "metadata": {},
   "source": [
    "Features are significantly correlated with each other. size_uniformity and shape_uniformity are especially highly correlated. We can explore only keeping one of these are evaluating model performance when one is swapped with the other."
   ]
  },
  {
   "cell_type": "code",
   "execution_count": 260,
   "metadata": {},
   "outputs": [
    {
     "data": {
      "image/png": "[encoded data removed]",
      "text/plain": [
       "<Figure size 1080x720 with 9 Axes>"
      ]
     },
     "metadata": {
      "needs_background": "light"
     },
     "output_type": "display_data"
    }
   ],
   "source": [
    "proc_data.drop(['id'],axis=1).boxplot(by='target', figsize=(15,10));"
   ]
  },
  {
   "cell_type": "markdown",
   "metadata": {},
   "source": [
    "There is a clear difference in spread of features between the classes."
   ]
  },
  {
   "cell_type": "markdown",
   "metadata": {},
   "source": [
    "## Modelling"
   ]
  },
  {
   "cell_type": "markdown",
   "metadata": {},
   "source": [
    "**Custom switchers for feature selection and model selection to be used in grid search**"
   ]
  },
  {
   "cell_type": "code",
   "execution_count": 359,
   "metadata": {},
   "outputs": [],
   "source": [
    "class FeatureSelector(TransformerMixin, BaseEstimator):\n",
    "    '''Select features using any sklearn method'''\n",
    "    def __init__(self, transformer = None):\n",
    "        self.transformer = transformer\n",
    "\n",
    "    def fit(self, X, y=None, **kwargs):\n",
    "        if self.transformer:\n",
    "            self.transformer.fit(X, y)\n",
    "        return self\n",
    "\n",
    "    def transform(self, X):\n",
    "        if self.transformer:\n",
    "            X_r = self.transformer.transform(X)\n",
    "            return X_r\n",
    "        else:\n",
    "            return X"
   ]
  },
  {
   "cell_type": "code",
   "execution_count": 360,
   "metadata": {},
   "outputs": [],
   "source": [
    "class ClfEstimator(BaseEstimator):\n",
    "    '''Choose model for classification'''\n",
    "    def __init__(self, estimator = LogisticRegression()):\n",
    "        self.estimator = estimator\n",
    "\n",
    "    def fit(self, X, y=None, **kwargs):\n",
    "        self.estimator.fit(X, y)\n",
    "        return self\n",
    "\n",
    "    def predict(self, X, y=None):\n",
    "        check_is_fitted(self.estimator)\n",
    "        return self.estimator.predict(X)\n",
    "\n",
    "    def score(self, X, y):\n",
    "        return self.estimator.score(X, y)"
   ]
  },
  {
   "cell_type": "markdown",
   "metadata": {},
   "source": [
    "**Metrics**\n",
    "\n",
    "Recall is the key metric of choice here as we want to minimze false negatives."
   ]
  },
  {
   "cell_type": "code",
   "execution_count": 361,
   "metadata": {},
   "outputs": [],
   "source": [
    "def plot_confusion_matrix(y_true, y_pred):\n",
    "    \"\"\"Plot a confusion matrix and return confusion matrix.\"\"\"\n",
    "    cm = confusion_matrix(y_true, y_pred)\n",
    "    f, ax = plt.subplots()\n",
    "    sns.heatmap(cm, annot=True, cmap=\"Blues\", square=True, ax=ax, fmt='.0f')\n",
    "    ax.set_ylabel(\"True values\")\n",
    "    ax.set_xlabel(\"Predicted values\")\n",
    "    return cm"
   ]
  },
  {
   "cell_type": "code",
   "execution_count": 362,
   "metadata": {},
   "outputs": [],
   "source": [
    "def cv_score_statistics(estimator, X, y, scoring='recall', cv=5, n_jobs=-1):\n",
    "    scores = cross_val_score(estimator, X, y, scoring=scoring, cv=cv, n_jobs=n_jobs)\n",
    "    print('All scores:\\n', np.sort(scores), '\\n')\n",
    "    print('Mean:', np.round(np.mean(scores), 3))\n",
    "    print('Median:', np.round(np.median(scores),3))\n",
    "    print('SD:', np.round(np.std(scores), 3))"
   ]
  },
  {
   "cell_type": "markdown",
   "metadata": {},
   "source": [
    "**Train and Test Set**"
   ]
  },
  {
   "cell_type": "code",
   "execution_count": 394,
   "metadata": {},
   "outputs": [],
   "source": [
    "X = proc_data.drop(['id', 'size_uniformity', 'target'], axis=1).copy()\n",
    "# drop size_uniformity because it is highly correlated with shape_uniformity\n",
    "y = proc_data['target'].copy()\n",
    "le = LabelEncoder()\n",
    "y = le.fit_transform(y)\n",
    "\n",
    "X_train, X_test, y_train, y_test = train_test_split(X,\n",
    "                                                    y,\n",
    "                                                    test_size=0.2,\n",
    "                                                    random_state=0,\n",
    "                                                    stratify=y)"
   ]
  },
  {
   "cell_type": "markdown",
   "metadata": {},
   "source": [
    "**Pipeline**"
   ]
  },
  {
   "cell_type": "code",
   "execution_count": 375,
   "metadata": {},
   "outputs": [],
   "source": [
    "pipeline = Pipeline(steps=[\n",
    "    ('fs', FeatureSelector()),\n",
    "    ('classifier', ClfEstimator())\n",
    "])"
   ]
  },
  {
   "cell_type": "markdown",
   "metadata": {},
   "source": [
    "**Baseline Model**"
   ]
  },
  {
   "cell_type": "code",
   "execution_count": 376,
   "metadata": {},
   "outputs": [],
   "source": [
    "pipeline.fit(X, y)\n",
    "y_pred = pipeline.predict(X_train)"
   ]
  },
  {
   "cell_type": "code",
   "execution_count": 377,
   "metadata": {},
   "outputs": [
    {
     "data": {
      "image/png": "[encoded data removed]",
      "text/plain": [
       "<Figure size 432x288 with 2 Axes>"
      ]
     },
     "metadata": {
      "needs_background": "light"
     },
     "output_type": "display_data"
    }
   ],
   "source": [
    "#Confusion Matrix\n",
    "plot_confusion_matrix(y_train, y_pred);"
   ]
  },
  {
   "cell_type": "code",
   "execution_count": 378,
   "metadata": {},
   "outputs": [
    {
     "name": "stdout",
     "output_type": "stream",
     "text": [
      "              precision    recall  f1-score   support\n",
      "\n",
      "      Benign       0.97      0.98      0.98       292\n",
      "   Malignant       0.97      0.96      0.96       180\n",
      "\n",
      "    accuracy                           0.97       472\n",
      "   macro avg       0.97      0.97      0.97       472\n",
      "weighted avg       0.97      0.97      0.97       472\n",
      "\n"
     ]
    }
   ],
   "source": [
    "print(classification_report(y_train, y_pred, target_names=[\"Benign\", \"Malignant\"]))"
   ]
  },
  {
   "cell_type": "code",
   "execution_count": 382,
   "metadata": {},
   "outputs": [
    {
     "name": "stdout",
     "output_type": "stream",
     "text": [
      "All scores:\n",
      " [0.87878788 0.95652174 0.97058824 1.         1.        ] \n",
      "\n",
      "Mean: 0.961\n",
      "Median: 0.971\n",
      "SD: 0.045\n"
     ]
    }
   ],
   "source": [
    "cv_score_statistics(pipeline, X_train, y_train)"
   ]
  },
  {
   "cell_type": "markdown",
   "metadata": {},
   "source": [
    "Mean recall is 96% but there is some unstability in the scores between the folds. Let's see if we can do better."
   ]
  },
  {
   "cell_type": "markdown",
   "metadata": {},
   "source": [
    "## Feature Selection and Model Selection / Tuning"
   ]
  },
  {
   "cell_type": "code",
   "execution_count": 522,
   "metadata": {
    "scrolled": true
   },
   "outputs": [
    {
     "name": "stdout",
     "output_type": "stream",
     "text": [
      "Best parameters: {'classifier__estimator': RandomForestClassifier(), 'fs__transformer': RFE(estimator=LogisticRegression(), n_features_to_select=8), 'fs__transformer__n_features_to_select': 8}\n",
      "Best score: 0.9852437417654809\n"
     ]
    }
   ],
   "source": [
    "params = [\n",
    "    {\n",
    "        'fs__transformer': [SelectFromModel(LogisticRegression(), threshold=-np.inf)],\n",
    "        'fs__transformer__max_features': np.arange(3,9),\n",
    "        'classifier__estimator': [xgb.XGBClassifier(), LogisticRegression(), RandomForestClassifier(), SVC()],\n",
    "    },\n",
    "    {\n",
    "        'fs__transformer': [RFE(LogisticRegression())],\n",
    "        'fs__transformer__n_features_to_select': np.arange(3,9),\n",
    "        'classifier__estimator': [xgb.XGBClassifier(), LogisticRegression(), RandomForestClassifier(), SVC()],\n",
    "    }]\n",
    "grid = GridSearchCV(pipeline,\n",
    "                    params,\n",
    "                    cv=5,\n",
    "                    verbose=0,\n",
    "                    n_jobs=-1,\n",
    "                    scoring='recall'\n",
    "                   )\n",
    "grid.fit(X_train, y_train)\n",
    "print('Best parameters:', grid.best_params_)\n",
    "print('Best score:', grid.best_score_)"
   ]
  },
  {
   "cell_type": "code",
   "execution_count": 470,
   "metadata": {},
   "outputs": [
    {
     "name": "stdout",
     "output_type": "stream",
     "text": [
      "All scores:\n",
      " [0.93939394 0.97826087 1.         1.         1.        ] \n",
      "\n",
      "Mean: 0.984\n",
      "Median: 1.0\n",
      "SD: 0.024\n"
     ]
    }
   ],
   "source": [
    "cv_score_statistics(grid.best_estimator_, X_train, y_train)"
   ]
  },
  {
   "cell_type": "markdown",
   "metadata": {},
   "source": [
    "In a preliminary comparison between classifiers with default parameters, the random forest classifier does a better job classifying. The recall is better and more stable across the folds. Let's tune the model and feature selection further using Random Forest."
   ]
  },
  {
   "cell_type": "code",
   "execution_count": 505,
   "metadata": {},
   "outputs": [
    {
     "name": "stdout",
     "output_type": "stream",
     "text": [
      "Best parameters: {'classifier__estimator': RandomForestClassifier(max_depth=2, n_estimators=200), 'classifier__estimator__max_depth': 2, 'classifier__estimator__n_estimators': 200, 'fs__transformer': RFE(estimator=RandomForestClassifier(), n_features_to_select=7), 'fs__transformer__n_features_to_select': 7}\n",
      "Best score: 0.9895915678524375\n"
     ]
    }
   ],
   "source": [
    "# Now we will use RandomForest importances to recursively select features and tune the model\n",
    "params = [\n",
    "    {\n",
    "        'fs__transformer': [RFE(RandomForestClassifier())],\n",
    "        'fs__transformer__n_features_to_select': np.arange(3,9),\n",
    "        'classifier__estimator': [RandomForestClassifier()],\n",
    "        'classifier__estimator__n_estimators': [200],\n",
    "        'classifier__estimator__max_depth': [2,3]\n",
    "    }]\n",
    "grid = GridSearchCV(pipeline,\n",
    "                    params,\n",
    "                    cv=5,\n",
    "                    verbose=0,\n",
    "                    n_jobs=-1,\n",
    "                    scoring='recall'\n",
    "                   )\n",
    "grid.fit(X_train, y_train)\n",
    "print('Best parameters:', grid.best_params_)\n",
    "print('Best score:', grid.best_score_)"
   ]
  },
  {
   "cell_type": "code",
   "execution_count": 506,
   "metadata": {},
   "outputs": [],
   "source": [
    "y_pred = grid.predict(X_train)"
   ]
  },
  {
   "cell_type": "code",
   "execution_count": 507,
   "metadata": {},
   "outputs": [
    {
     "data": {
      "image/png": "[encoded data removed]",
      "text/plain": [
       "<Figure size 432x288 with 2 Axes>"
      ]
     },
     "metadata": {
      "needs_background": "light"
     },
     "output_type": "display_data"
    }
   ],
   "source": [
    "#Confusion Matrix\n",
    "plot_confusion_matrix(y_train, y_pred);"
   ]
  },
  {
   "cell_type": "code",
   "execution_count": 508,
   "metadata": {
    "scrolled": true
   },
   "outputs": [
    {
     "name": "stdout",
     "output_type": "stream",
     "text": [
      "              precision    recall  f1-score   support\n",
      "\n",
      "      Benign       0.99      0.97      0.98       292\n",
      "   Malignant       0.96      0.99      0.97       180\n",
      "\n",
      "    accuracy                           0.98       472\n",
      "   macro avg       0.97      0.98      0.98       472\n",
      "weighted avg       0.98      0.98      0.98       472\n",
      "\n"
     ]
    }
   ],
   "source": [
    "print(classification_report(y_train, y_pred, target_names=[\"Benign\", \"Malignant\"]))"
   ]
  },
  {
   "cell_type": "markdown",
   "metadata": {},
   "source": [
    "The recall for Malignant tumors improved from 96% to 99% without any loss in precision."
   ]
  },
  {
   "cell_type": "code",
   "execution_count": 509,
   "metadata": {},
   "outputs": [],
   "source": [
    "# Feature importance\n",
    "selected_features = X_train.columns[grid.best_estimator_.named_steps['fs'].transformer.support_]\n",
    "importances = grid.best_estimator_.named_steps['classifier'].estimator.feature_importances_\n",
    "imp = pd.DataFrame({'feature': selected_features, 'importance': importances})\n",
    "imp = imp.sort_values(by='importance', ascending=False)"
   ]
  },
  {
   "cell_type": "code",
   "execution_count": 510,
   "metadata": {},
   "outputs": [
    {
     "data": {
      "image/png": "[encoded data removed]",
      "text/plain": [
       "<Figure size 432x288 with 1 Axes>"
      ]
     },
     "metadata": {
      "needs_background": "light"
     },
     "output_type": "display_data"
    }
   ],
   "source": [
    "sns.barplot(x='importance', y='feature', data=imp, orient='h', palette='Blues_r');"
   ]
  },
  {
   "cell_type": "markdown",
   "metadata": {},
   "source": [
    "We can see only 7 features are the optimum number of features for achieving a very high recall (99%). The task objective however mentions that there is a time and monetary cost associated with collecting every feature. So let's see what the recall score looks like for other feature selections."
   ]
  },
  {
   "cell_type": "code",
   "execution_count": 511,
   "metadata": {},
   "outputs": [
    {
     "data": {
      "text/plain": [
       "array([0.93817533, 0.97764861, 0.97380583, 0.98370921, 0.98959157,\n",
       "       0.98959157, 0.96057581, 0.96564144, 0.96735422, 0.97936139,\n",
       "       0.98959157, 0.98524374])"
      ]
     },
     "execution_count": 511,
     "metadata": {},
     "output_type": "execute_result"
    }
   ],
   "source": [
    "grid.cv_results_['mean_test_score']"
   ]
  },
  {
   "cell_type": "markdown",
   "metadata": {},
   "source": [
    "3 or 4 features gives 96% recall, 5 or 6 features gives ~97% recall and 7 or 8 features give 98% recall on the train set. Depending on the cost benefit analysis an appropriate set of features can be chosen from the above."
   ]
  },
  {
   "cell_type": "markdown",
   "metadata": {},
   "source": [
    "## Test Set Performance"
   ]
  },
  {
   "cell_type": "code",
   "execution_count": 519,
   "metadata": {},
   "outputs": [
    {
     "data": {
      "image/png": "[encoded data removed]",
      "text/plain": [
       "<Figure size 432x288 with 2 Axes>"
      ]
     },
     "metadata": {
      "needs_background": "light"
     },
     "output_type": "display_data"
    }
   ],
   "source": [
    "y_pred = grid.predict(X_test)\n",
    "plot_confusion_matrix(y_test, y_pred);"
   ]
  },
  {
   "cell_type": "code",
   "execution_count": 520,
   "metadata": {},
   "outputs": [
    {
     "name": "stdout",
     "output_type": "stream",
     "text": [
      "              precision    recall  f1-score   support\n",
      "\n",
      "      Benign       1.00      0.97      0.99        73\n",
      "   Malignant       0.96      1.00      0.98        46\n",
      "\n",
      "    accuracy                           0.98       119\n",
      "   macro avg       0.98      0.99      0.98       119\n",
      "weighted avg       0.98      0.98      0.98       119\n",
      "\n"
     ]
    }
   ],
   "source": [
    "print(classification_report(y_test, y_pred, target_names=[\"Benign\", \"Malignant\"]))"
   ]
  },
  {
   "cell_type": "markdown",
   "metadata": {},
   "source": [
    "We see excellent performance on the test set with a 100% recall on the malignant class and 98% accuracy. "
   ]
  },
  {
   "cell_type": "markdown",
   "metadata": {},
   "source": [
    "## Insights\n",
    "\n",
    "* The model could identify malignant tumors with 98% accuracy and a recall of 99% on the malignant class in the train set.\n",
    "* The model could identify malignant tumors with 98% accuracy and a recall of 100% on the malignant class in the test set.\n",
    "* While 7 features were found to give best performance (recall of 99%), it is possible to trade lower number of features for a poorer recall. For instance using just the 5 or 6 most important features gives a slightly lower recall of 97% on the train set. This will depend on the cost versus benefit of collecting the extra features.\n",
    "* The features in order of importance are:"
   ]
  },
  {
   "cell_type": "code",
   "execution_count": 521,
   "metadata": {},
   "outputs": [
    {
     "data": {
      "image/png": "[encoded data removed]",
      "text/plain": [
       "<Figure size 432x288 with 1 Axes>"
      ]
     },
     "metadata": {
      "needs_background": "light"
     },
     "output_type": "display_data"
    }
   ],
   "source": [
    "sns.barplot(x='importance', y='feature', data=imp, orient='h', palette='Blues_r');"
   ]
  },
  {
   "cell_type": "code",
   "execution_count": null,
   "metadata": {},
   "outputs": [],
   "source": []
  }
 ],
 "metadata": {
  "kernelspec": {
   "display_name": "Python 3",
   "language": "python",
   "name": "python3"
  },
  "language_info": {
   "codemirror_mode": {
    "name": "ipython",
    "version": 3
   },
   "file_extension": ".py",
   "mimetype": "text/x-python",
   "name": "python",
   "nbconvert_exporter": "python",
   "pygments_lexer": "ipython3",
   "version": "3.8.3"
  }
 },
 "nbformat": 4,
 "nbformat_minor": 4
}
